{
 "cells": [
  {
   "cell_type": "code",
   "execution_count": 1,
   "id": "5ac825fc",
   "metadata": {},
   "outputs": [],
   "source": [
    "from numpy import genfromtxt\n",
    "import numpy as np\n",
    "from numpy import *\n",
    "import matplotlib\n",
    "#matplotlib.use('TKAgg') # matplotlib renderer for windows\n",
    "import matplotlib.pyplot as plt\n",
    "from sklearn.svm import LinearSVC\n",
    "from sklearn.decomposition import PCA\n",
    "import pylab as pl\n",
    "from itertools import cycle\n",
    "from sklearn import svm\n",
    "from sklearn.svm import SVC"
   ]
  },
  {
   "cell_type": "code",
   "execution_count": 2,
   "id": "62caf867",
   "metadata": {},
   "outputs": [
    {
     "data": {
      "text/plain": [
       "array([[63.,  1.,  3., ...,  0.,  1.,  1.],\n",
       "       [37.,  1.,  2., ...,  0.,  2.,  1.],\n",
       "       [41.,  0.,  1., ...,  0.,  2.,  1.],\n",
       "       ...,\n",
       "       [68.,  1.,  0., ...,  2.,  3.,  0.],\n",
       "       [57.,  1.,  0., ...,  1.,  3.,  0.],\n",
       "       [57.,  0.,  1., ...,  1.,  2.,  0.]])"
      ]
     },
     "execution_count": 2,
     "metadata": {},
     "output_type": "execute_result"
    }
   ],
   "source": [
    "#Loading and pruning the data\n",
    "data = genfromtxt('heart.csv', delimiter=',')\n",
    "data"
   ]
  },
  {
   "cell_type": "code",
   "execution_count": 3,
   "id": "a301afb8",
   "metadata": {},
   "outputs": [],
   "source": [
    "#Printing the datasetd\n",
    "X = data[:,0:12] #Feature set\n",
    "Y = data[:,13]    #label Set"
   ]
  },
  {
   "cell_type": "code",
   "execution_count": 4,
   "id": "9724b732",
   "metadata": {},
   "outputs": [
    {
     "name": "stdout",
     "output_type": "stream",
     "text": [
      "[1. 1. 1. 1. 1. 1. 1. 1. 1. 1. 1. 1. 1. 1. 1. 1. 1. 1. 1. 1. 1. 1. 1. 1.\n",
      " 1. 1. 1. 1. 1. 1. 1. 1. 1. 1. 1. 1. 1. 1. 1. 1. 1. 1. 1. 1. 1. 1. 1. 1.\n",
      " 1. 1. 1. 1. 1. 1. 1. 1. 1. 1. 1. 1. 1. 1. 1. 1. 1. 1. 1. 1. 1. 1. 1. 1.\n",
      " 1. 1. 1. 1. 1. 1. 1. 1. 1. 1. 1. 1. 1. 1. 1. 1. 1. 1. 1. 1. 1. 1. 1. 1.\n",
      " 1. 1. 1. 1. 1. 1. 1. 1. 1. 1. 1. 1. 1. 1. 1. 1. 1. 1. 1. 1. 1. 1. 1. 1.\n",
      " 1. 1. 1. 1. 1. 1. 1. 1. 1. 1. 1. 1. 1. 1. 1. 1. 1. 1. 1. 1. 1. 1. 1. 1.\n",
      " 1. 1. 1. 1. 1. 1. 1. 1. 1. 1. 1. 1. 1. 1. 1. 1. 1. 1. 1. 1. 1. 0. 0. 0.\n",
      " 0. 0. 0. 0. 0. 0. 0. 0. 0. 0. 0. 0. 0. 0. 0. 0. 0. 0. 0. 0. 0. 0. 0. 0.\n",
      " 0. 0. 0. 0. 0. 0. 0. 0. 0. 0. 0. 0. 0. 0. 0. 0. 0. 0. 0. 0. 0. 0. 0. 0.\n",
      " 0. 0. 0. 0. 0. 0. 0. 0. 0. 0. 0. 0. 0. 0. 0. 0. 0. 0. 0. 0. 0. 0. 0. 0.\n",
      " 0. 0. 0. 0. 0. 0. 0. 0. 0. 0. 0. 0. 0. 0. 0. 0. 0. 0. 0. 0. 0. 0. 0. 0.\n",
      " 0. 0. 0. 0. 0. 0. 0. 0. 0. 0. 0. 0. 0. 0. 0. 0. 0. 0. 0. 0. 0. 0. 0. 0.\n",
      " 0. 0. 0. 0. 0. 0. 0. 0. 0. 0. 0. 0. 0. 0. 0.]\n"
     ]
    }
   ],
   "source": [
    "#Replacing 1-4 by label 1  tesko arthaat   # Item with 0 value is already indexed as 0 , so rest are indexed as 1\n",
    "for index, item in enumerate(Y):   # Last row gives 4 diff types of output , so convert them to 0  or 1 \n",
    "    if not (item == 0.0):       # that is either Yes or No\n",
    "        Y[index] = 1\n",
    "print(Y)\n",
    "target_names = ['0','1']"
   ]
  },
  {
   "cell_type": "code",
   "execution_count": 5,
   "id": "657bacda",
   "metadata": {},
   "outputs": [],
   "source": [
    "# PLOTTING part starts\n",
    "\n",
    "#Method to plot the graph for reduced Dimensions\n",
    "def plot_2D(data,target,target_names):\n",
    "    colors = cycle('rgbcmykw')\n",
    "    target_ids = range(len(target_names))\n",
    "    plt.figure()\n",
    "    for i,c, label in zip(target_ids, colors, target_names):\n",
    "        plt.scatter(data[target == i, 0], data[target == i, 1], c=c, label=label)\n",
    "    plt.legend()\n",
    "    plt.savefig('Problem 2 Graph')"
   ]
  },
  {
   "cell_type": "code",
   "execution_count": 6,
   "id": "fe3441f0",
   "metadata": {},
   "outputs": [],
   "source": [
    "# TIME FOR SVM\n",
    "# Classifying the data using a linear SVM and perdicting the probabilities of disease belonging to a particular classs\n",
    "\n",
    "modelSVM = LinearSVC(C=0.1)\n",
    "pca = PCA(n_components=2, whiten=True).fit(X)   # n denotes number of components to keep after Dimensionality Reduction\n",
    "X_new = pca.transform(X)"
   ]
  },
  {
   "cell_type": "code",
   "execution_count": 7,
   "id": "81a728cc",
   "metadata": {},
   "outputs": [
    {
     "data": {
      "image/png": "[encoded data removed]",
      "text/plain": [
       "<Figure size 432x288 with 1 Axes>"
      ]
     },
     "metadata": {
      "needs_background": "light"
     },
     "output_type": "display_data"
    }
   ],
   "source": [
    "#Calling the above defined function plot_2D\n",
    "plot_2D(X_new, Y, target_names)"
   ]
  },
  {
   "cell_type": "code",
   "execution_count": 8,
   "id": "92e2f6e0",
   "metadata": {},
   "outputs": [
    {
     "name": "stdout",
     "output_type": "stream",
     "text": [
      "Linear SVC values with Split\n",
      "0.7540983606557377\n"
     ]
    }
   ],
   "source": [
    "# Applying cross validation on the training and test set for validating our linear SVM model\n",
    "from sklearn.model_selection import train_test_split\n",
    "X_train,X_test,Y_train,Y_test = train_test_split(X_new, Y, test_size = 0.2, train_size=0.8, random_state=0)\n",
    "modelSVM = modelSVM.fit(X_train,Y_train)\n",
    "print(\"Linear SVC values with Split\")\n",
    "print(modelSVM.score(X_test, Y_test))"
   ]
  },
  {
   "cell_type": "code",
   "execution_count": 9,
   "id": "9fac1de4",
   "metadata": {},
   "outputs": [
    {
     "name": "stdout",
     "output_type": "stream",
     "text": [
      "Linear SVC score without split\n",
      "1.8217821782178218\n"
     ]
    }
   ],
   "source": [
    "modelSVMRaw = LinearSVC(C = 0.1)\n",
    "modelSVMRaw = modelSVMRaw.fit(X_new, Y)\n",
    "cnt = 0\n",
    "for i in modelSVMRaw.predict(X_new):\n",
    "    if(i == Y[1]):\n",
    "        cnt = cnt+1\n",
    "print(\"Linear SVC score without split\")\n",
    "print(float(cnt)/101)"
   ]
  },
  {
   "cell_type": "code",
   "execution_count": 10,
   "id": "5ddf65d6",
   "metadata": {},
   "outputs": [],
   "source": [
    "# Applying the PCA on the data features\n",
    "modelSVM2 = SVC(C = 0.1,kernel='rbf')"
   ]
  },
  {
   "cell_type": "code",
   "execution_count": 11,
   "id": "516bcb44",
   "metadata": {},
   "outputs": [
    {
     "name": "stdout",
     "output_type": "stream",
     "text": [
      "RBF score with split\n",
      "0.4426229508196721\n"
     ]
    }
   ],
   "source": [
    "# Applying the cross validation on training and the test set for validating our linear SVM model\n",
    "X_train1,X_test1,Y_train1,Y_test1 = train_test_split(X_new, Y, test_size = 0.2, train_size=0.1, random_state=0)\n",
    "modelSVM2 = modelSVM2.fit(X_train1,Y_train1)\n",
    "print(\"RBF score with split\")\n",
    "print(modelSVM2.score(X_test1,Y_test1))"
   ]
  },
  {
   "cell_type": "code",
   "execution_count": 12,
   "id": "19bbdf4b",
   "metadata": {},
   "outputs": [
    {
     "name": "stdout",
     "output_type": "stream",
     "text": [
      "RBF score without split\n",
      "0.6208053691275168\n"
     ]
    }
   ],
   "source": [
    "modelSVMRaw2 = SVC(C=0.1, kernel='rbf')\n",
    "modelSVMRaw2 = modelSVMRaw2.fit(X_new,Y)\n",
    "cnt1 = 0\n",
    "for i in modelSVMRaw2.predict(X_new):\n",
    "    if i == Y[1]:\n",
    "        cnt1 = cnt1 + 1\n",
    "print(\"RBF score without split\")\n",
    "print(float(cnt1)/298)"
   ]
  },
  {
   "cell_type": "code",
   "execution_count": 13,
   "id": "0398dde3",
   "metadata": {},
   "outputs": [],
   "source": [
    "# Only perform 2 algorithms\n",
    "\n",
    "# creating the mest plots\n",
    "X_min, X_max = X_new[:,0].min() - 1, X_new[:,0].max() + 1\n",
    "Y_min, Y_max = X_new[:,1].min() - 1, X_new[:,1].max() + 1\n",
    "xx, yy = np.meshgrid(np.arange(X_min, X_max,0.2),\n",
    "                    np.arange(Y_min, Y_max,0.2))"
   ]
  },
  {
   "cell_type": "code",
   "execution_count": 14,
   "id": "b7f73545",
   "metadata": {},
   "outputs": [],
   "source": [
    "#Titles for the plot\n",
    "titles = \"SVC ( RBF kernel) - Plotting highest varied 2 PCA values\""
   ]
  },
  {
   "cell_type": "code",
   "execution_count": 15,
   "id": "4ca7bfae",
   "metadata": {},
   "outputs": [
    {
     "data": {
      "image/png": "[encoded data removed]",
      "text/plain": [
       "<Figure size 432x288 with 1 Axes>"
      ]
     },
     "metadata": {},
     "output_type": "display_data"
    }
   ],
   "source": [
    "#plot also the color points\n",
    "plt.scatter(X_new[:,0], X_new[:,1], c=Y, cmap = plt.cm.Paired)\n",
    "plt.xlabel(\"PCA1\")\n",
    "plt.ylabel(\"PCA2\")\n",
    "plt.xlim(xx.min(),xx.max())\n",
    "plt.ylim(yy.min(),yy.max())\n",
    "plt.xticks(())\n",
    "plt.yticks(())\n",
    "plt.title(titles)\n",
    "plt.show()"
   ]
  },
  {
   "cell_type": "code",
   "execution_count": 16,
   "id": "61ecde20",
   "metadata": {},
   "outputs": [
    {
     "data": {
      "image/png": "[encoded data removed]",
      "text/plain": [
       "<Figure size 432x288 with 2 Axes>"
      ]
     },
     "metadata": {
      "needs_background": "light"
     },
     "output_type": "display_data"
    }
   ],
   "source": [
    "#confusion matrix\n",
    "from sklearn.metrics import confusion_matrix\n",
    "from sklearn.metrics import plot_confusion_matrix\n",
    "clf = svm.SVC(kernel='linear')\n",
    "# Fit data\n",
    "clf = clf.fit(X_train, Y_train)\n",
    "plot_confusion_matrix(clf,X_test, Y_test)  \n",
    "plt.show()"
   ]
  }
 ],
 "metadata": {
  "kernelspec": {
   "display_name": "Python 3",
   "language": "python",
   "name": "python3"
  },
  "language_info": {
   "codemirror_mode": {
    "name": "ipython",
    "version": 3
   },
   "file_extension": ".py",
   "mimetype": "text/x-python",
   "name": "python",
   "nbconvert_exporter": "python",
   "pygments_lexer": "ipython3",
   "version": "3.8.10"
  }
 },
 "nbformat": 4,
 "nbformat_minor": 5
}
